{
  "nbformat": 4,
  "nbformat_minor": 0,
  "metadata": {
    "colab": {
      "provenance": [],
      "authorship_tag": "ABX9TyPEFwUojxCDrtltFuQaFIod",
      "include_colab_link": true
    },
    "kernelspec": {
      "name": "python3",
      "display_name": "Python 3"
    },
    "language_info": {
      "name": "python"
    }
  },
  "cells": [
    {
      "cell_type": "markdown",
      "metadata": {
        "id": "view-in-github",
        "colab_type": "text"
      },
      "source": [
        "<a href=\"https://colab.research.google.com/github/SoumadipDey/Intel-oneAPI-Hackathon/blob/main/Intel_ML_Hackathon_22_03_23.ipynb\" target=\"_parent\"><img src=\"https://colab.research.google.com/assets/colab-badge.svg\" alt=\"Open In Colab\"/></a>"
      ]
    },
    {
      "cell_type": "markdown",
      "source": [
        "# **Polynomial Regression on Fish Market Dataset to predict weight with respect to features of various species of fish.**\n",
        "\n",
        "Using the [Intel® Extension for Scikit-learn](https://github.com/intel/scikit-learn-intelex) "
      ],
      "metadata": {
        "id": "u1EJK4zZsrKg"
      }
    },
    {
      "cell_type": "markdown",
      "source": [
        "## <b>1<font color = #00C7FD > |</font><font color = #0068B5 >| </font></b>**Priliminary Actions**"
      ],
      "metadata": {
        "id": "wI9dVJ6pHAjP"
      }
    },
    {
      "cell_type": "markdown",
      "source": [
        "**Installing the Intel oneAPI optmized version of sklearn**"
      ],
      "metadata": {
        "id": "l9GvKsnmtEju"
      }
    },
    {
      "cell_type": "code",
      "execution_count": 212,
      "metadata": {
        "id": "8UkU2FqVnnBI"
      },
      "outputs": [],
      "source": [
        "!pip install scikit-learn-intelex --quiet"
      ]
    },
    {
      "cell_type": "markdown",
      "source": [
        "**Importing required packages**"
      ],
      "metadata": {
        "id": "D4jXkkJBth0R"
      }
    },
    {
      "cell_type": "code",
      "source": [
        "import numpy as np\n",
        "import pandas as pd\n",
        "import matplotlib.pyplot as plt\n",
        "import seaborn as sns\n",
        "import time\n",
        "from sklearn.model_selection import train_test_split\n",
        "from sklearn.metrics import mean_squared_error, mean_absolute_percentage_error\n",
        "from sklearn.linear_model import LinearRegression as LinearRegressionSklearn\n",
        "from sklearnex.linear_model import LinearRegression as LinearRegressionSklearnex\n",
        "from sklearn.preprocessing import PolynomialFeatures\n",
        "from sklearn.preprocessing import StandardScaler\n",
        "sns.set_theme()"
      ],
      "metadata": {
        "id": "Heo-0nhytiWq"
      },
      "execution_count": 213,
      "outputs": []
    },
    {
      "cell_type": "markdown",
      "source": [
        "**Loading the Dataset**"
      ],
      "metadata": {
        "id": "ncOTDPHdtO9K"
      }
    },
    {
      "cell_type": "code",
      "source": [
        "fish_df = pd.read_csv(\"https://raw.githubusercontent.com/SoumadipDey/datasets/main/Fish.csv\")\n",
        "print(\"Shape of Dataframe: \",fish_df.shape)\n",
        "fish_df.head()"
      ],
      "metadata": {
        "colab": {
          "base_uri": "https://localhost:8080/",
          "height": 224
        },
        "id": "H4BHIdhku7rf",
        "outputId": "6b44680f-9793-425a-8181-8dd11ffc9ba7"
      },
      "execution_count": 214,
      "outputs": [
        {
          "output_type": "stream",
          "name": "stdout",
          "text": [
            "Shape of Dataframe:  (159, 7)\n"
          ]
        },
        {
          "output_type": "execute_result",
          "data": {
            "text/plain": [
              "  Species  Weight  Length1  Length2  Length3   Height   Width\n",
              "0   Bream   242.0     23.2     25.4     30.0  11.5200  4.0200\n",
              "1   Bream   290.0     24.0     26.3     31.2  12.4800  4.3056\n",
              "2   Bream   340.0     23.9     26.5     31.1  12.3778  4.6961\n",
              "3   Bream   363.0     26.3     29.0     33.5  12.7300  4.4555\n",
              "4   Bream   430.0     26.5     29.0     34.0  12.4440  5.1340"
            ],
            "text/html": [
              "\n",
              "  <div id=\"df-ea14ab02-773b-4918-a18c-7d96dc612a3d\">\n",
              "    <div class=\"colab-df-container\">\n",
              "      <div>\n",
              "<style scoped>\n",
              "    .dataframe tbody tr th:only-of-type {\n",
              "        vertical-align: middle;\n",
              "    }\n",
              "\n",
              "    .dataframe tbody tr th {\n",
              "        vertical-align: top;\n",
              "    }\n",
              "\n",
              "    .dataframe thead th {\n",
              "        text-align: right;\n",
              "    }\n",
              "</style>\n",
              "<table border=\"1\" class=\"dataframe\">\n",
              "  <thead>\n",
              "    <tr style=\"text-align: right;\">\n",
              "      <th></th>\n",
              "      <th>Species</th>\n",
              "      <th>Weight</th>\n",
              "      <th>Length1</th>\n",
              "      <th>Length2</th>\n",
              "      <th>Length3</th>\n",
              "      <th>Height</th>\n",
              "      <th>Width</th>\n",
              "    </tr>\n",
              "  </thead>\n",
              "  <tbody>\n",
              "    <tr>\n",
              "      <th>0</th>\n",
              "      <td>Bream</td>\n",
              "      <td>242.0</td>\n",
              "      <td>23.2</td>\n",
              "      <td>25.4</td>\n",
              "      <td>30.0</td>\n",
              "      <td>11.5200</td>\n",
              "      <td>4.0200</td>\n",
              "    </tr>\n",
              "    <tr>\n",
              "      <th>1</th>\n",
              "      <td>Bream</td>\n",
              "      <td>290.0</td>\n",
              "      <td>24.0</td>\n",
              "      <td>26.3</td>\n",
              "      <td>31.2</td>\n",
              "      <td>12.4800</td>\n",
              "      <td>4.3056</td>\n",
              "    </tr>\n",
              "    <tr>\n",
              "      <th>2</th>\n",
              "      <td>Bream</td>\n",
              "      <td>340.0</td>\n",
              "      <td>23.9</td>\n",
              "      <td>26.5</td>\n",
              "      <td>31.1</td>\n",
              "      <td>12.3778</td>\n",
              "      <td>4.6961</td>\n",
              "    </tr>\n",
              "    <tr>\n",
              "      <th>3</th>\n",
              "      <td>Bream</td>\n",
              "      <td>363.0</td>\n",
              "      <td>26.3</td>\n",
              "      <td>29.0</td>\n",
              "      <td>33.5</td>\n",
              "      <td>12.7300</td>\n",
              "      <td>4.4555</td>\n",
              "    </tr>\n",
              "    <tr>\n",
              "      <th>4</th>\n",
              "      <td>Bream</td>\n",
              "      <td>430.0</td>\n",
              "      <td>26.5</td>\n",
              "      <td>29.0</td>\n",
              "      <td>34.0</td>\n",
              "      <td>12.4440</td>\n",
              "      <td>5.1340</td>\n",
              "    </tr>\n",
              "  </tbody>\n",
              "</table>\n",
              "</div>\n",
              "      <button class=\"colab-df-convert\" onclick=\"convertToInteractive('df-ea14ab02-773b-4918-a18c-7d96dc612a3d')\"\n",
              "              title=\"Convert this dataframe to an interactive table.\"\n",
              "              style=\"display:none;\">\n",
              "        \n",
              "  <svg xmlns=\"http://www.w3.org/2000/svg\" height=\"24px\"viewBox=\"0 0 24 24\"\n",
              "       width=\"24px\">\n",
              "    <path d=\"M0 0h24v24H0V0z\" fill=\"none\"/>\n",
              "    <path d=\"M18.56 5.44l.94 2.06.94-2.06 2.06-.94-2.06-.94-.94-2.06-.94 2.06-2.06.94zm-11 1L8.5 8.5l.94-2.06 2.06-.94-2.06-.94L8.5 2.5l-.94 2.06-2.06.94zm10 10l.94 2.06.94-2.06 2.06-.94-2.06-.94-.94-2.06-.94 2.06-2.06.94z\"/><path d=\"M17.41 7.96l-1.37-1.37c-.4-.4-.92-.59-1.43-.59-.52 0-1.04.2-1.43.59L10.3 9.45l-7.72 7.72c-.78.78-.78 2.05 0 2.83L4 21.41c.39.39.9.59 1.41.59.51 0 1.02-.2 1.41-.59l7.78-7.78 2.81-2.81c.8-.78.8-2.07 0-2.86zM5.41 20L4 18.59l7.72-7.72 1.47 1.35L5.41 20z\"/>\n",
              "  </svg>\n",
              "      </button>\n",
              "      \n",
              "  <style>\n",
              "    .colab-df-container {\n",
              "      display:flex;\n",
              "      flex-wrap:wrap;\n",
              "      gap: 12px;\n",
              "    }\n",
              "\n",
              "    .colab-df-convert {\n",
              "      background-color: #E8F0FE;\n",
              "      border: none;\n",
              "      border-radius: 50%;\n",
              "      cursor: pointer;\n",
              "      display: none;\n",
              "      fill: #1967D2;\n",
              "      height: 32px;\n",
              "      padding: 0 0 0 0;\n",
              "      width: 32px;\n",
              "    }\n",
              "\n",
              "    .colab-df-convert:hover {\n",
              "      background-color: #E2EBFA;\n",
              "      box-shadow: 0px 1px 2px rgba(60, 64, 67, 0.3), 0px 1px 3px 1px rgba(60, 64, 67, 0.15);\n",
              "      fill: #174EA6;\n",
              "    }\n",
              "\n",
              "    [theme=dark] .colab-df-convert {\n",
              "      background-color: #3B4455;\n",
              "      fill: #D2E3FC;\n",
              "    }\n",
              "\n",
              "    [theme=dark] .colab-df-convert:hover {\n",
              "      background-color: #434B5C;\n",
              "      box-shadow: 0px 1px 3px 1px rgba(0, 0, 0, 0.15);\n",
              "      filter: drop-shadow(0px 1px 2px rgba(0, 0, 0, 0.3));\n",
              "      fill: #FFFFFF;\n",
              "    }\n",
              "  </style>\n",
              "\n",
              "      <script>\n",
              "        const buttonEl =\n",
              "          document.querySelector('#df-ea14ab02-773b-4918-a18c-7d96dc612a3d button.colab-df-convert');\n",
              "        buttonEl.style.display =\n",
              "          google.colab.kernel.accessAllowed ? 'block' : 'none';\n",
              "\n",
              "        async function convertToInteractive(key) {\n",
              "          const element = document.querySelector('#df-ea14ab02-773b-4918-a18c-7d96dc612a3d');\n",
              "          const dataTable =\n",
              "            await google.colab.kernel.invokeFunction('convertToInteractive',\n",
              "                                                     [key], {});\n",
              "          if (!dataTable) return;\n",
              "\n",
              "          const docLinkHtml = 'Like what you see? Visit the ' +\n",
              "            '<a target=\"_blank\" href=https://colab.research.google.com/notebooks/data_table.ipynb>data table notebook</a>'\n",
              "            + ' to learn more about interactive tables.';\n",
              "          element.innerHTML = '';\n",
              "          dataTable['output_type'] = 'display_data';\n",
              "          await google.colab.output.renderOutput(dataTable, element);\n",
              "          const docLink = document.createElement('div');\n",
              "          docLink.innerHTML = docLinkHtml;\n",
              "          element.appendChild(docLink);\n",
              "        }\n",
              "      </script>\n",
              "    </div>\n",
              "  </div>\n",
              "  "
            ]
          },
          "metadata": {},
          "execution_count": 214
        }
      ]
    },
    {
      "cell_type": "markdown",
      "source": [
        "## <b>2<font color = #00C7FD > |</font><font color = #0068B5 >| </font></b>**Data Cleaning**"
      ],
      "metadata": {
        "id": "iomoNLn4IMKL"
      }
    },
    {
      "cell_type": "markdown",
      "source": [
        "**Cleaning NaN values if any**\n",
        "\n"
      ],
      "metadata": {
        "id": "KOdyKhErwIIk"
      }
    },
    {
      "cell_type": "code",
      "source": [
        "fish_df.isna().sum()"
      ],
      "metadata": {
        "colab": {
          "base_uri": "https://localhost:8080/"
        },
        "id": "tMBWDmpzwB6z",
        "outputId": "19e72dd9-9022-45d0-88ed-9ca8c88dbcf5"
      },
      "execution_count": 215,
      "outputs": [
        {
          "output_type": "execute_result",
          "data": {
            "text/plain": [
              "Species    0\n",
              "Weight     0\n",
              "Length1    0\n",
              "Length2    0\n",
              "Length3    0\n",
              "Height     0\n",
              "Width      0\n",
              "dtype: int64"
            ]
          },
          "metadata": {},
          "execution_count": 215
        }
      ]
    },
    {
      "cell_type": "markdown",
      "source": [
        "**Finding and plotting correlation among the variables**"
      ],
      "metadata": {
        "id": "vZxX1Vb-w-hb"
      }
    },
    {
      "cell_type": "code",
      "source": [
        "plt.figure(1,(7,6))\n",
        "sns.heatmap(fish_df.drop(['Species'], axis = 1).corr(),\n",
        "            annot = True, cmap = sns.color_palette('summer_r'),\n",
        ")\n",
        "plt.show()"
      ],
      "metadata": {
        "colab": {
          "base_uri": "https://localhost:8080/",
          "height": 381
        },
        "id": "qyJtqyIRw_Ch",
        "outputId": "d541f9f3-7874-419b-e665-4f0a2b00e268"
      },
      "execution_count": 216,
      "outputs": [
        {
          "output_type": "display_data",
          "data": {
            "text/plain": [
              "<Figure size 504x432 with 2 Axes>"
            ],
            "image/png": "[encoded data removed]"
          },
          "metadata": {}
        }
      ]
    },
    {
      "cell_type": "markdown",
      "source": [
        "From the above heatmap, it is clear that the features `Length1`, `Length2`, `Length3` have a very high degree of multicollinearity and thus need to be removed as to not skew the results or overfit the model."
      ],
      "metadata": {
        "id": "sHsMXbmI09Qd"
      }
    },
    {
      "cell_type": "code",
      "source": [
        "try:\n",
        "  fish_df.drop(['Length1','Length2','Length3'], axis = 1, inplace = True)\n",
        "except KeyError:\n",
        "  print(\"Length Columns already dropped!\")\n",
        "finally:\n",
        "  print(\"Columns:\", fish_df.columns.values)"
      ],
      "metadata": {
        "colab": {
          "base_uri": "https://localhost:8080/"
        },
        "id": "KPdW7Ic01nrg",
        "outputId": "28313d63-b6f3-49d8-a557-5a52bdd06710"
      },
      "execution_count": 217,
      "outputs": [
        {
          "output_type": "stream",
          "name": "stdout",
          "text": [
            "Columns: ['Species' 'Weight' 'Height' 'Width']\n"
          ]
        }
      ]
    },
    {
      "cell_type": "markdown",
      "source": [
        "**Outlier Detection for various species of Fishes**"
      ],
      "metadata": {
        "id": "5_OvOi0Uw_TI"
      }
    },
    {
      "cell_type": "code",
      "source": [
        "fig , ax = plt.subplots(1,3,figsize = (20,5))\n",
        "sns.boxplot(data = fish_df, x = 'Species', y = 'Weight', ax = ax[0])\n",
        "sns.boxplot(data = fish_df, x = 'Species', y = 'Height', ax = ax[1])\n",
        "sns.boxplot(data = fish_df, x = 'Species', y = 'Width', ax = ax[2])\n",
        "fig.show()"
      ],
      "metadata": {
        "colab": {
          "base_uri": "https://localhost:8080/",
          "height": 339
        },
        "id": "gCUWi5vSwjr3",
        "outputId": "a9ee574b-e31c-4931-f84a-828edcf8b8ea"
      },
      "execution_count": 218,
      "outputs": [
        {
          "output_type": "display_data",
          "data": {
            "text/plain": [
              "<Figure size 1440x360 with 3 Axes>"
            ],
            "image/png": "[encoded data removed]"
          },
          "metadata": {}
        }
      ]
    },
    {
      "cell_type": "markdown",
      "source": [
        "As we can see from the boxplots, there exist some outliers:\n",
        "\n",
        "\n",
        "* There are *Weight*, *Height* and *Width* outliers for the Species `Roach`.   \n",
        "* There are *Weight*, *Height* and *Width* outliers for the Species `Smelt`.\n",
        "\n"
      ],
      "metadata": {
        "id": "wPEhpHiN4fuZ"
      }
    },
    {
      "cell_type": "markdown",
      "source": [
        "**Finding and removing the outliers**"
      ],
      "metadata": {
        "id": "wg5GA8CixypT"
      }
    },
    {
      "cell_type": "code",
      "source": [
        "def findOutliers(dataframe: pd.DataFrame) -> pd.DataFrame:\n",
        "  Q1 = dataframe.quantile(0.25)\n",
        "  Q3 = dataframe.quantile(0.75)\n",
        "  IQR = Q3 - Q1\n",
        "  upper_end = Q3 + 1.5 * IQR\n",
        "  lower_end = Q1 - 1.5 * IQR \n",
        "  outlier = dataframe[(dataframe > upper_end) | (dataframe < lower_end)]\n",
        "  return outlier"
      ],
      "metadata": {
        "id": "fgKpvGx2o4Rx"
      },
      "execution_count": 219,
      "outputs": []
    },
    {
      "cell_type": "code",
      "source": [
        "roach = fish_df.where(fish_df['Species'] == 'Roach').dropna()\n",
        "smelt = fish_df.where(fish_df['Species'] == 'Smelt').dropna()"
      ],
      "metadata": {
        "id": "vMKGW0_7jCuj"
      },
      "execution_count": 220,
      "outputs": []
    },
    {
      "cell_type": "code",
      "source": [
        "outliers = set()\n",
        "for category in [roach, smelt]:\n",
        "  for column in category.columns[1:]: \n",
        "      outliers.update(findOutliers(category[column]).index.values)"
      ],
      "metadata": {
        "id": "pzmUG4yaqA97"
      },
      "execution_count": 221,
      "outputs": []
    },
    {
      "cell_type": "code",
      "source": [
        "fish_df.drop(list(outliers), inplace = True)"
      ],
      "metadata": {
        "id": "2Wp38kZow3JT"
      },
      "execution_count": 222,
      "outputs": []
    },
    {
      "cell_type": "code",
      "source": [
        "fig , ax = plt.subplots(1,3,figsize = (20,5))\n",
        "sns.boxplot(data = fish_df, x = 'Species', y = 'Weight', ax = ax[0])\n",
        "sns.boxplot(data = fish_df, x = 'Species', y = 'Height', ax = ax[1])\n",
        "sns.boxplot(data = fish_df, x = 'Species', y = 'Width', ax = ax[2])\n",
        "fig.show()"
      ],
      "metadata": {
        "colab": {
          "base_uri": "https://localhost:8080/",
          "height": 339
        },
        "id": "R0EVWfyLxnhl",
        "outputId": "81e476ac-1133-4ba3-ef9c-0f81402ab587"
      },
      "execution_count": 223,
      "outputs": [
        {
          "output_type": "display_data",
          "data": {
            "text/plain": [
              "<Figure size 1440x360 with 3 Axes>"
            ],
            "image/png": "[encoded data removed]"
          },
          "metadata": {}
        }
      ]
    },
    {
      "cell_type": "markdown",
      "source": [
        "## <b>3<font color = #00C7FD > |</font><font color = #0068B5 >| </font></b>**Understanding the relationship between the dependent and independent variables**"
      ],
      "metadata": {
        "id": "y2dyd3xUIhRX"
      }
    },
    {
      "cell_type": "markdown",
      "source": [
        "**Plotting relationships among the numeric variables**"
      ],
      "metadata": {
        "id": "JE1n27eXx8T8"
      }
    },
    {
      "cell_type": "code",
      "source": [
        "sns.pairplot(data = fish_df, \n",
        "             x_vars = fish_df.drop(['Weight','Species'],axis = 1).columns , \n",
        "             y_vars = 'Weight', hue = 'Species', height = 4, aspect = 1)\n",
        "plt.show()"
      ],
      "metadata": {
        "colab": {
          "base_uri": "https://localhost:8080/",
          "height": 301
        },
        "id": "ddp1Lpx9yG9y",
        "outputId": "3edb6ef1-7d03-47d7-b3ad-5f97c9b9b231"
      },
      "execution_count": 224,
      "outputs": [
        {
          "output_type": "display_data",
          "data": {
            "text/plain": [
              "<Figure size 667.725x288 with 2 Axes>"
            ],
            "image/png": "[encoded data removed]"
          },
          "metadata": {}
        }
      ]
    },
    {
      "cell_type": "markdown",
      "source": [
        "As it can be seen from the pairplot, the independent variables `Width`, `Height` seem to have a polynomial relationship with the dependent variable `Weight`. "
      ],
      "metadata": {
        "id": "AvYHQq7G5WBZ"
      }
    },
    {
      "cell_type": "markdown",
      "source": [
        "## <b>4<font color = #00C7FD > |</font><font color = #0068B5 >| </font></b>**Data Transformation**"
      ],
      "metadata": {
        "id": "Dgt36oqvJKDv"
      }
    },
    {
      "cell_type": "markdown",
      "source": [
        "**Scaling The Numerical Values**"
      ],
      "metadata": {
        "id": "n8zhGkP-7j2Q"
      }
    },
    {
      "cell_type": "code",
      "source": [
        "ScalerWeight = StandardScaler().fit(fish_df['Weight'].values.reshape(-1,1))\n",
        "ScalerHeight = StandardScaler().fit(fish_df['Height'].values.reshape(-1,1))\n",
        "ScalerWidth = StandardScaler().fit(fish_df['Width'].values.reshape(-1,1))\n",
        "\n",
        "fish_df['Weight'] = ScalerWeight.transform(fish_df['Weight'].values.reshape(-1,1))\n",
        "fish_df['Height'] = ScalerHeight.transform(fish_df['Height'].values.reshape(-1,1))\n",
        "fish_df['Width'] = ScalerWidth.transform(fish_df['Width'].values.reshape(-1,1))"
      ],
      "metadata": {
        "id": "yMPfPZIi7q4Y"
      },
      "execution_count": 225,
      "outputs": []
    },
    {
      "cell_type": "markdown",
      "source": [
        "**OneHot Encoding the Species**"
      ],
      "metadata": {
        "id": "7FXRyBLL5uIZ"
      }
    },
    {
      "cell_type": "code",
      "source": [
        "fish_df = fish_df.join(pd.get_dummies(fish_df.Species, prefix='Species_', drop_first = True))\n",
        "fish_df.drop(['Species'], axis = 1, inplace = True)\n",
        "fish_df.head()"
      ],
      "metadata": {
        "id": "kTph1Ywm53qa",
        "colab": {
          "base_uri": "https://localhost:8080/",
          "height": 206
        },
        "outputId": "2f9af516-f9b7-40f6-fdcc-2f5548951b6a"
      },
      "execution_count": 226,
      "outputs": [
        {
          "output_type": "execute_result",
          "data": {
            "text/plain": [
              "     Weight    Height     Width  Species__Parkki  Species__Perch  \\\n",
              "0 -0.467215  0.564442 -0.262655                0               0   \n",
              "1 -0.333632  0.788249 -0.092851                0               0   \n",
              "2 -0.194484  0.764423  0.139323                0               0   \n",
              "3 -0.130476  0.846533 -0.003727                0               0   \n",
              "4  0.055983  0.779857  0.399678                0               0   \n",
              "\n",
              "   Species__Pike  Species__Roach  Species__Smelt  Species__Whitefish  \n",
              "0              0               0               0                   0  \n",
              "1              0               0               0                   0  \n",
              "2              0               0               0                   0  \n",
              "3              0               0               0                   0  \n",
              "4              0               0               0                   0  "
            ],
            "text/html": [
              "\n",
              "  <div id=\"df-9c407aba-9449-4d45-b9c9-6fbb22a2e6cc\">\n",
              "    <div class=\"colab-df-container\">\n",
              "      <div>\n",
              "<style scoped>\n",
              "    .dataframe tbody tr th:only-of-type {\n",
              "        vertical-align: middle;\n",
              "    }\n",
              "\n",
              "    .dataframe tbody tr th {\n",
              "        vertical-align: top;\n",
              "    }\n",
              "\n",
              "    .dataframe thead th {\n",
              "        text-align: right;\n",
              "    }\n",
              "</style>\n",
              "<table border=\"1\" class=\"dataframe\">\n",
              "  <thead>\n",
              "    <tr style=\"text-align: right;\">\n",
              "      <th></th>\n",
              "      <th>Weight</th>\n",
              "      <th>Height</th>\n",
              "      <th>Width</th>\n",
              "      <th>Species__Parkki</th>\n",
              "      <th>Species__Perch</th>\n",
              "      <th>Species__Pike</th>\n",
              "      <th>Species__Roach</th>\n",
              "      <th>Species__Smelt</th>\n",
              "      <th>Species__Whitefish</th>\n",
              "    </tr>\n",
              "  </thead>\n",
              "  <tbody>\n",
              "    <tr>\n",
              "      <th>0</th>\n",
              "      <td>-0.467215</td>\n",
              "      <td>0.564442</td>\n",
              "      <td>-0.262655</td>\n",
              "      <td>0</td>\n",
              "      <td>0</td>\n",
              "      <td>0</td>\n",
              "      <td>0</td>\n",
              "      <td>0</td>\n",
              "      <td>0</td>\n",
              "    </tr>\n",
              "    <tr>\n",
              "      <th>1</th>\n",
              "      <td>-0.333632</td>\n",
              "      <td>0.788249</td>\n",
              "      <td>-0.092851</td>\n",
              "      <td>0</td>\n",
              "      <td>0</td>\n",
              "      <td>0</td>\n",
              "      <td>0</td>\n",
              "      <td>0</td>\n",
              "      <td>0</td>\n",
              "    </tr>\n",
              "    <tr>\n",
              "      <th>2</th>\n",
              "      <td>-0.194484</td>\n",
              "      <td>0.764423</td>\n",
              "      <td>0.139323</td>\n",
              "      <td>0</td>\n",
              "      <td>0</td>\n",
              "      <td>0</td>\n",
              "      <td>0</td>\n",
              "      <td>0</td>\n",
              "      <td>0</td>\n",
              "    </tr>\n",
              "    <tr>\n",
              "      <th>3</th>\n",
              "      <td>-0.130476</td>\n",
              "      <td>0.846533</td>\n",
              "      <td>-0.003727</td>\n",
              "      <td>0</td>\n",
              "      <td>0</td>\n",
              "      <td>0</td>\n",
              "      <td>0</td>\n",
              "      <td>0</td>\n",
              "      <td>0</td>\n",
              "    </tr>\n",
              "    <tr>\n",
              "      <th>4</th>\n",
              "      <td>0.055983</td>\n",
              "      <td>0.779857</td>\n",
              "      <td>0.399678</td>\n",
              "      <td>0</td>\n",
              "      <td>0</td>\n",
              "      <td>0</td>\n",
              "      <td>0</td>\n",
              "      <td>0</td>\n",
              "      <td>0</td>\n",
              "    </tr>\n",
              "  </tbody>\n",
              "</table>\n",
              "</div>\n",
              "      <button class=\"colab-df-convert\" onclick=\"convertToInteractive('df-9c407aba-9449-4d45-b9c9-6fbb22a2e6cc')\"\n",
              "              title=\"Convert this dataframe to an interactive table.\"\n",
              "              style=\"display:none;\">\n",
              "        \n",
              "  <svg xmlns=\"http://www.w3.org/2000/svg\" height=\"24px\"viewBox=\"0 0 24 24\"\n",
              "       width=\"24px\">\n",
              "    <path d=\"M0 0h24v24H0V0z\" fill=\"none\"/>\n",
              "    <path d=\"M18.56 5.44l.94 2.06.94-2.06 2.06-.94-2.06-.94-.94-2.06-.94 2.06-2.06.94zm-11 1L8.5 8.5l.94-2.06 2.06-.94-2.06-.94L8.5 2.5l-.94 2.06-2.06.94zm10 10l.94 2.06.94-2.06 2.06-.94-2.06-.94-.94-2.06-.94 2.06-2.06.94z\"/><path d=\"M17.41 7.96l-1.37-1.37c-.4-.4-.92-.59-1.43-.59-.52 0-1.04.2-1.43.59L10.3 9.45l-7.72 7.72c-.78.78-.78 2.05 0 2.83L4 21.41c.39.39.9.59 1.41.59.51 0 1.02-.2 1.41-.59l7.78-7.78 2.81-2.81c.8-.78.8-2.07 0-2.86zM5.41 20L4 18.59l7.72-7.72 1.47 1.35L5.41 20z\"/>\n",
              "  </svg>\n",
              "      </button>\n",
              "      \n",
              "  <style>\n",
              "    .colab-df-container {\n",
              "      display:flex;\n",
              "      flex-wrap:wrap;\n",
              "      gap: 12px;\n",
              "    }\n",
              "\n",
              "    .colab-df-convert {\n",
              "      background-color: #E8F0FE;\n",
              "      border: none;\n",
              "      border-radius: 50%;\n",
              "      cursor: pointer;\n",
              "      display: none;\n",
              "      fill: #1967D2;\n",
              "      height: 32px;\n",
              "      padding: 0 0 0 0;\n",
              "      width: 32px;\n",
              "    }\n",
              "\n",
              "    .colab-df-convert:hover {\n",
              "      background-color: #E2EBFA;\n",
              "      box-shadow: 0px 1px 2px rgba(60, 64, 67, 0.3), 0px 1px 3px 1px rgba(60, 64, 67, 0.15);\n",
              "      fill: #174EA6;\n",
              "    }\n",
              "\n",
              "    [theme=dark] .colab-df-convert {\n",
              "      background-color: #3B4455;\n",
              "      fill: #D2E3FC;\n",
              "    }\n",
              "\n",
              "    [theme=dark] .colab-df-convert:hover {\n",
              "      background-color: #434B5C;\n",
              "      box-shadow: 0px 1px 3px 1px rgba(0, 0, 0, 0.15);\n",
              "      filter: drop-shadow(0px 1px 2px rgba(0, 0, 0, 0.3));\n",
              "      fill: #FFFFFF;\n",
              "    }\n",
              "  </style>\n",
              "\n",
              "      <script>\n",
              "        const buttonEl =\n",
              "          document.querySelector('#df-9c407aba-9449-4d45-b9c9-6fbb22a2e6cc button.colab-df-convert');\n",
              "        buttonEl.style.display =\n",
              "          google.colab.kernel.accessAllowed ? 'block' : 'none';\n",
              "\n",
              "        async function convertToInteractive(key) {\n",
              "          const element = document.querySelector('#df-9c407aba-9449-4d45-b9c9-6fbb22a2e6cc');\n",
              "          const dataTable =\n",
              "            await google.colab.kernel.invokeFunction('convertToInteractive',\n",
              "                                                     [key], {});\n",
              "          if (!dataTable) return;\n",
              "\n",
              "          const docLinkHtml = 'Like what you see? Visit the ' +\n",
              "            '<a target=\"_blank\" href=https://colab.research.google.com/notebooks/data_table.ipynb>data table notebook</a>'\n",
              "            + ' to learn more about interactive tables.';\n",
              "          element.innerHTML = '';\n",
              "          dataTable['output_type'] = 'display_data';\n",
              "          await google.colab.output.renderOutput(dataTable, element);\n",
              "          const docLink = document.createElement('div');\n",
              "          docLink.innerHTML = docLinkHtml;\n",
              "          element.appendChild(docLink);\n",
              "        }\n",
              "      </script>\n",
              "    </div>\n",
              "  </div>\n",
              "  "
            ]
          },
          "metadata": {},
          "execution_count": 226
        }
      ]
    },
    {
      "cell_type": "markdown",
      "source": [
        "**Seperating the variables**"
      ],
      "metadata": {
        "id": "Z7A7SvovHX79"
      }
    },
    {
      "cell_type": "code",
      "source": [
        "X = fish_df.drop(['Weight'], axis = 1).values\n",
        "y = fish_df['Weight'].values.reshape(-1,1)"
      ],
      "metadata": {
        "id": "7ATMPaQ0Hcd4"
      },
      "execution_count": 227,
      "outputs": []
    },
    {
      "cell_type": "code",
      "source": [
        "print(X.shape,y.shape)"
      ],
      "metadata": {
        "id": "GmMHmtkRKGM_",
        "colab": {
          "base_uri": "https://localhost:8080/"
        },
        "outputId": "dc5d75cc-981f-40ef-b37f-c6e13b4f622b"
      },
      "execution_count": 228,
      "outputs": [
        {
          "output_type": "stream",
          "name": "stdout",
          "text": [
            "(152, 8) (152, 1)\n"
          ]
        }
      ]
    },
    {
      "cell_type": "markdown",
      "source": [
        "**Creating Polynomial Features**"
      ],
      "metadata": {
        "id": "8Xdk9g-uEcWs"
      }
    },
    {
      "cell_type": "code",
      "source": [
        "X = PolynomialFeatures(degree = 2).fit_transform(X)"
      ],
      "metadata": {
        "id": "18j9pXE-DRhK"
      },
      "execution_count": 229,
      "outputs": []
    },
    {
      "cell_type": "markdown",
      "source": [
        "## <b>5<font color = #00C7FD > |</font><font color = #0068B5 >| </font></b>**Creating Test and Train Sets**"
      ],
      "metadata": {
        "id": "5ssdAAT8NDyL"
      }
    },
    {
      "cell_type": "markdown",
      "source": [
        "**Splitting the dataset into training and validation sets**"
      ],
      "metadata": {
        "id": "jg9ADjVcLtLJ"
      }
    },
    {
      "cell_type": "code",
      "source": [
        "X_train, X_test, y_train, y_test = train_test_split(X, y, test_size = 0.33, random_state = 11)"
      ],
      "metadata": {
        "id": "Cj-3m08kMDO9"
      },
      "execution_count": 230,
      "outputs": []
    },
    {
      "cell_type": "code",
      "source": [
        "print(\"Training set dimensions: \",X_train.shape,y_train.shape)\n",
        "print(\"Test set dimensions: \",X_test.shape,y_test.shape)"
      ],
      "metadata": {
        "id": "0c_9ciSdOsqZ",
        "colab": {
          "base_uri": "https://localhost:8080/"
        },
        "outputId": "c3f0654e-e81b-4309-bfa2-39c5fdb0602a"
      },
      "execution_count": 231,
      "outputs": [
        {
          "output_type": "stream",
          "name": "stdout",
          "text": [
            "Training set dimensions:  (106, 45) (106, 1)\n",
            "Test set dimensions:  (46, 45) (46, 1)\n"
          ]
        }
      ]
    },
    {
      "cell_type": "markdown",
      "source": [
        "## <b>6<font color = #00C7FD > |</font><font color = #0068B5 >| </font></b>**Creating and training the Models**"
      ],
      "metadata": {
        "id": "Ikdw4616NOut"
      }
    },
    {
      "cell_type": "markdown",
      "source": [
        "**Defining a training benchmark function**"
      ],
      "metadata": {
        "id": "5p3iIcgJKB1t"
      }
    },
    {
      "cell_type": "code",
      "source": [
        "def trainAndBench(estimator, X, y, n_executions = 1000):\n",
        "  times = []\n",
        "  while len(times) < n_executions:\n",
        "    model = estimator\n",
        "    t0 = time.perf_counter()\n",
        "    model.fit(X, y)\n",
        "    t1 = time.perf_counter()\n",
        "    times.append(t1 - t0)\n",
        "\n",
        "  return np.mean(times), model"
      ],
      "metadata": {
        "id": "gSQBRCpPJXU1"
      },
      "execution_count": 232,
      "outputs": []
    },
    {
      "cell_type": "markdown",
      "source": [
        "**Creating and benchmarking the fit perfromance**\n",
        "\n",
        "*   Model 1 uses <font color = #F7931E>default sklearn</font> implementation of a LinearRegression estimator.\n",
        "*   Model 2 uses <font color = #0068B5>Intel optimized sklearnex </font> implementation of a LinearRegression estimator.\n",
        "\n"
      ],
      "metadata": {
        "id": "aorosXGJO0zJ"
      }
    },
    {
      "cell_type": "code",
      "source": [
        "mean_time_sklearn, model_1 = trainAndBench(estimator=LinearRegressionSklearn(), X = X_train, y = y_train)\n",
        "mean_time_sklearnex, model_2 = trainAndBench(estimator=LinearRegressionSklearnex(), X = X_train, y = y_train)\n",
        "speedup = ((mean_time_sklearn - mean_time_sklearnex) / mean_time_sklearn) * 100\n",
        "print(\"The training speedup percentage:\", speedup, \"%\")"
      ],
      "metadata": {
        "colab": {
          "base_uri": "https://localhost:8080/"
        },
        "id": "q7hBr1klKm7F",
        "outputId": "ae99157e-3226-4477-c7d2-d6859ec0e142"
      },
      "execution_count": 242,
      "outputs": [
        {
          "output_type": "stream",
          "name": "stdout",
          "text": [
            "The training speedup percentage: 27.40272164338467 %\n"
          ]
        }
      ]
    },
    {
      "cell_type": "markdown",
      "source": [
        "## <b>7<font color = #00C7FD > |</font><font color = #0068B5 >| </font></b>**Evaluating the models**"
      ],
      "metadata": {
        "id": "fUHMlQVON5hX"
      }
    },
    {
      "cell_type": "markdown",
      "source": [
        "**Defining a prediction benchmark function**"
      ],
      "metadata": {
        "id": "CATqO7pFQ2c9"
      }
    },
    {
      "cell_type": "code",
      "source": [
        "def predictAndBench(model, X, n_executions = 1000):\n",
        "  times = []\n",
        "  predictions = []\n",
        "  while len(times) < n_executions:\n",
        "    t0 = time.perf_counter()\n",
        "    predictions = model.predict(X)\n",
        "    t1 = time.perf_counter()\n",
        "    times.append(t1 - t0)\n",
        "\n",
        "  return np.mean(times), predictions"
      ],
      "metadata": {
        "id": "5iFRjWVRQ214"
      },
      "execution_count": 246,
      "outputs": []
    },
    {
      "cell_type": "markdown",
      "source": [
        "**Calculating and benchmarking predictions**"
      ],
      "metadata": {
        "id": "_vBglW2nQ3Js"
      }
    },
    {
      "cell_type": "code",
      "source": [
        "sklearn_mean_predict_time, y_predicted_1 = predictAndBench(model_1, X_test)\n",
        "sklearnex_mean_predict_time, y_predicted_2 = predictAndBench(model_2, X_test)\n",
        "speedup = ((sklearn_mean_predict_time - sklearnex_mean_predict_time) / sklearn_mean_predict_time) * 100\n",
        "print(\"The prediction speedup percentage:\", speedup, \"%\")"
      ],
      "metadata": {
        "id": "jo2zAck0POad",
        "colab": {
          "base_uri": "https://localhost:8080/"
        },
        "outputId": "883aba72-20e8-4d63-ffba-0a4868de584a"
      },
      "execution_count": 248,
      "outputs": [
        {
          "output_type": "stream",
          "name": "stdout",
          "text": [
            "The prediction speedup percentage: 11.910772985536088 %\n"
          ]
        }
      ]
    },
    {
      "cell_type": "code",
      "source": [
        "test_comparison_df = pd.DataFrame({\"Actual Weight\": ScalerWeight.inverse_transform(y_test).squeeze(),\n",
        "                                  \"Predicted Weight Sklearn\":ScalerWeight.inverse_transform(y_predicted_1).squeeze(),\n",
        "                                  \"Predicted Weight Sklearnex\":ScalerWeight.inverse_transform(y_predicted_2).squeeze()})\n",
        "test_comparison_df['Residuals Sklearn'] = test_comparison_df['Actual Weight'] - test_comparison_df['Predicted Weight Sklearn']\n",
        "test_comparison_df['Residuals Sklearnex'] = test_comparison_df['Actual Weight'] - test_comparison_df['Predicted Weight Sklearnex']\n",
        "test_comparison_df.head()"
      ],
      "metadata": {
        "colab": {
          "base_uri": "https://localhost:8080/",
          "height": 206
        },
        "id": "Rufab_GIXbOQ",
        "outputId": "2847ab44-5224-4981-95c0-f848e75d7d6d"
      },
      "execution_count": 249,
      "outputs": [
        {
          "output_type": "execute_result",
          "data": {
            "text/plain": [
              "   Actual Weight  Predicted Weight Sklearn  Predicted Weight Sklearnex  \\\n",
              "0          900.0                890.709549                  890.709549   \n",
              "1           40.0                 24.615623                   24.615623   \n",
              "2          950.0               1069.873611                 1069.873611   \n",
              "3           55.0                 72.704495                   72.704495   \n",
              "4          510.0                450.080075                  450.080075   \n",
              "\n",
              "   Residuals Sklearn  Residuals Sklearnex  \n",
              "0           9.290451             9.290451  \n",
              "1          15.384377            15.384377  \n",
              "2        -119.873611          -119.873611  \n",
              "3         -17.704495           -17.704495  \n",
              "4          59.919925            59.919925  "
            ],
            "text/html": [
              "\n",
              "  <div id=\"df-04b416e3-256e-4a9c-a553-98faab1cebba\">\n",
              "    <div class=\"colab-df-container\">\n",
              "      <div>\n",
              "<style scoped>\n",
              "    .dataframe tbody tr th:only-of-type {\n",
              "        vertical-align: middle;\n",
              "    }\n",
              "\n",
              "    .dataframe tbody tr th {\n",
              "        vertical-align: top;\n",
              "    }\n",
              "\n",
              "    .dataframe thead th {\n",
              "        text-align: right;\n",
              "    }\n",
              "</style>\n",
              "<table border=\"1\" class=\"dataframe\">\n",
              "  <thead>\n",
              "    <tr style=\"text-align: right;\">\n",
              "      <th></th>\n",
              "      <th>Actual Weight</th>\n",
              "      <th>Predicted Weight Sklearn</th>\n",
              "      <th>Predicted Weight Sklearnex</th>\n",
              "      <th>Residuals Sklearn</th>\n",
              "      <th>Residuals Sklearnex</th>\n",
              "    </tr>\n",
              "  </thead>\n",
              "  <tbody>\n",
              "    <tr>\n",
              "      <th>0</th>\n",
              "      <td>900.0</td>\n",
              "      <td>890.709549</td>\n",
              "      <td>890.709549</td>\n",
              "      <td>9.290451</td>\n",
              "      <td>9.290451</td>\n",
              "    </tr>\n",
              "    <tr>\n",
              "      <th>1</th>\n",
              "      <td>40.0</td>\n",
              "      <td>24.615623</td>\n",
              "      <td>24.615623</td>\n",
              "      <td>15.384377</td>\n",
              "      <td>15.384377</td>\n",
              "    </tr>\n",
              "    <tr>\n",
              "      <th>2</th>\n",
              "      <td>950.0</td>\n",
              "      <td>1069.873611</td>\n",
              "      <td>1069.873611</td>\n",
              "      <td>-119.873611</td>\n",
              "      <td>-119.873611</td>\n",
              "    </tr>\n",
              "    <tr>\n",
              "      <th>3</th>\n",
              "      <td>55.0</td>\n",
              "      <td>72.704495</td>\n",
              "      <td>72.704495</td>\n",
              "      <td>-17.704495</td>\n",
              "      <td>-17.704495</td>\n",
              "    </tr>\n",
              "    <tr>\n",
              "      <th>4</th>\n",
              "      <td>510.0</td>\n",
              "      <td>450.080075</td>\n",
              "      <td>450.080075</td>\n",
              "      <td>59.919925</td>\n",
              "      <td>59.919925</td>\n",
              "    </tr>\n",
              "  </tbody>\n",
              "</table>\n",
              "</div>\n",
              "      <button class=\"colab-df-convert\" onclick=\"convertToInteractive('df-04b416e3-256e-4a9c-a553-98faab1cebba')\"\n",
              "              title=\"Convert this dataframe to an interactive table.\"\n",
              "              style=\"display:none;\">\n",
              "        \n",
              "  <svg xmlns=\"http://www.w3.org/2000/svg\" height=\"24px\"viewBox=\"0 0 24 24\"\n",
              "       width=\"24px\">\n",
              "    <path d=\"M0 0h24v24H0V0z\" fill=\"none\"/>\n",
              "    <path d=\"M18.56 5.44l.94 2.06.94-2.06 2.06-.94-2.06-.94-.94-2.06-.94 2.06-2.06.94zm-11 1L8.5 8.5l.94-2.06 2.06-.94-2.06-.94L8.5 2.5l-.94 2.06-2.06.94zm10 10l.94 2.06.94-2.06 2.06-.94-2.06-.94-.94-2.06-.94 2.06-2.06.94z\"/><path d=\"M17.41 7.96l-1.37-1.37c-.4-.4-.92-.59-1.43-.59-.52 0-1.04.2-1.43.59L10.3 9.45l-7.72 7.72c-.78.78-.78 2.05 0 2.83L4 21.41c.39.39.9.59 1.41.59.51 0 1.02-.2 1.41-.59l7.78-7.78 2.81-2.81c.8-.78.8-2.07 0-2.86zM5.41 20L4 18.59l7.72-7.72 1.47 1.35L5.41 20z\"/>\n",
              "  </svg>\n",
              "      </button>\n",
              "      \n",
              "  <style>\n",
              "    .colab-df-container {\n",
              "      display:flex;\n",
              "      flex-wrap:wrap;\n",
              "      gap: 12px;\n",
              "    }\n",
              "\n",
              "    .colab-df-convert {\n",
              "      background-color: #E8F0FE;\n",
              "      border: none;\n",
              "      border-radius: 50%;\n",
              "      cursor: pointer;\n",
              "      display: none;\n",
              "      fill: #1967D2;\n",
              "      height: 32px;\n",
              "      padding: 0 0 0 0;\n",
              "      width: 32px;\n",
              "    }\n",
              "\n",
              "    .colab-df-convert:hover {\n",
              "      background-color: #E2EBFA;\n",
              "      box-shadow: 0px 1px 2px rgba(60, 64, 67, 0.3), 0px 1px 3px 1px rgba(60, 64, 67, 0.15);\n",
              "      fill: #174EA6;\n",
              "    }\n",
              "\n",
              "    [theme=dark] .colab-df-convert {\n",
              "      background-color: #3B4455;\n",
              "      fill: #D2E3FC;\n",
              "    }\n",
              "\n",
              "    [theme=dark] .colab-df-convert:hover {\n",
              "      background-color: #434B5C;\n",
              "      box-shadow: 0px 1px 3px 1px rgba(0, 0, 0, 0.15);\n",
              "      filter: drop-shadow(0px 1px 2px rgba(0, 0, 0, 0.3));\n",
              "      fill: #FFFFFF;\n",
              "    }\n",
              "  </style>\n",
              "\n",
              "      <script>\n",
              "        const buttonEl =\n",
              "          document.querySelector('#df-04b416e3-256e-4a9c-a553-98faab1cebba button.colab-df-convert');\n",
              "        buttonEl.style.display =\n",
              "          google.colab.kernel.accessAllowed ? 'block' : 'none';\n",
              "\n",
              "        async function convertToInteractive(key) {\n",
              "          const element = document.querySelector('#df-04b416e3-256e-4a9c-a553-98faab1cebba');\n",
              "          const dataTable =\n",
              "            await google.colab.kernel.invokeFunction('convertToInteractive',\n",
              "                                                     [key], {});\n",
              "          if (!dataTable) return;\n",
              "\n",
              "          const docLinkHtml = 'Like what you see? Visit the ' +\n",
              "            '<a target=\"_blank\" href=https://colab.research.google.com/notebooks/data_table.ipynb>data table notebook</a>'\n",
              "            + ' to learn more about interactive tables.';\n",
              "          element.innerHTML = '';\n",
              "          dataTable['output_type'] = 'display_data';\n",
              "          await google.colab.output.renderOutput(dataTable, element);\n",
              "          const docLink = document.createElement('div');\n",
              "          docLink.innerHTML = docLinkHtml;\n",
              "          element.appendChild(docLink);\n",
              "        }\n",
              "      </script>\n",
              "    </div>\n",
              "  </div>\n",
              "  "
            ]
          },
          "metadata": {},
          "execution_count": 249
        }
      ]
    },
    {
      "cell_type": "markdown",
      "source": [
        "**Performance Evaluation through various metrics**"
      ],
      "metadata": {
        "id": "_IKPPsOba9xZ"
      }
    },
    {
      "cell_type": "code",
      "source": [
        "print(\"For Model 1 (Sklearn)\")\n",
        "print(\"R2 Score Train:\",model_1.score(X_train,y_train))\n",
        "print(\"R2 Score Test:\",model_1.score(X_test,y_test))\n",
        "print(\"MSE Train:\",mean_squared_error(y_train,model_1.predict(X_train)))\n",
        "print(\"MSE Test:\",mean_squared_error(y_test,y_predicted_1))\n",
        "print(\"MAPE Train:\",mean_absolute_percentage_error(y_train,model_1.predict(X_train))*100,\"%\")\n",
        "print(\"MAPE Test:\",mean_absolute_percentage_error(y_test,y_predicted_1)*100,\"%\")\n",
        "\n",
        "print(\"\\nFor Model 2 (Sklearnex)\")\n",
        "print(\"R2 Score Train:\",model_2.score(X_train,y_train))\n",
        "print(\"R2 Score Test:\",model_2.score(X_test,y_test))\n",
        "print(\"MSE Train:\",mean_squared_error(y_train,model_2.predict(X_train)))\n",
        "print(\"MSE Test:\",mean_squared_error(y_test,y_predicted_2))\n",
        "print(\"MAPE Train:\",mean_absolute_percentage_error(y_train,model_2.predict(X_train))*100,\"%\")\n",
        "print(\"MAPE Test:\",mean_absolute_percentage_error(y_test,y_predicted_2)*100,\"%\")"
      ],
      "metadata": {
        "id": "uC5pdxR6R6Bi",
        "colab": {
          "base_uri": "https://localhost:8080/"
        },
        "outputId": "1d128a6c-f660-4754-e5ee-b2a17f528a79"
      },
      "execution_count": 250,
      "outputs": [
        {
          "output_type": "stream",
          "name": "stdout",
          "text": [
            "For Model 1 (Sklearn)\n",
            "R2 Score Train: 0.9561589637167357\n",
            "R2 Score Test: 0.9781655937950583\n",
            "MSE Train: 0.04316585411002326\n",
            "MSE Test: 0.02248207487337898\n",
            "MAPE Train: 23.843216817134387 %\n",
            "MAPE Test: 17.970624339853607 %\n",
            "\n",
            "For Model 2 (Sklearnex)\n",
            "R2 Score Train: 0.9561589637167357\n",
            "R2 Score Test: 0.9781655937950583\n",
            "MSE Train: 0.04316585411002326\n",
            "MSE Test: 0.02248207487337898\n",
            "MAPE Train: 23.843216817134387 %\n",
            "MAPE Test: 17.970624339853607 %\n"
          ]
        }
      ]
    },
    {
      "cell_type": "markdown",
      "source": [
        "It can be observed that the metrics remain consistent across both the models."
      ],
      "metadata": {
        "id": "OyQF6E84jITP"
      }
    },
    {
      "cell_type": "markdown",
      "source": [
        "**Histogram of Residuals**"
      ],
      "metadata": {
        "id": "TZqBhV-kSYQp"
      }
    },
    {
      "cell_type": "code",
      "source": [
        "fig,ax = plt.subplots(1,2,figsize = (16,5))\n",
        "sns.histplot(data = test_comparison_df, x = 'Residuals Sklearn', color = '#F7931E', ax = ax[0], kde = True)\n",
        "sns.histplot(data = test_comparison_df, x = 'Residuals Sklearnex', color = '#0068B5', ax = ax[1], kde = True)\n",
        "plt.show()"
      ],
      "metadata": {
        "id": "eHllGi3GSYQp",
        "colab": {
          "base_uri": "https://localhost:8080/",
          "height": 339
        },
        "outputId": "a1773f85-a822-44ad-8ce6-9ac268511114"
      },
      "execution_count": 253,
      "outputs": [
        {
          "output_type": "display_data",
          "data": {
            "text/plain": [
              "<Figure size 1152x360 with 2 Axes>"
            ],
            "image/png": "[encoded data removed]"
          },
          "metadata": {}
        }
      ]
    },
    {
      "cell_type": "markdown",
      "source": [
        "**Plotting the Predicted Weights against the Actual Weights**"
      ],
      "metadata": {
        "id": "Ykmcr4vsSYQp"
      }
    },
    {
      "cell_type": "code",
      "source": [
        "fig, ax = plt.subplots(1,2,figsize = (16,5))\n",
        "ax[0].set_xlabel(\"Actual Weights (in Grams)\")\n",
        "ax[0].set_ylabel(\"Predicted Weights (in Grams)\")\n",
        "fig.suptitle(\"Actual vs Predicted Weights on the Test Dataset\")\n",
        "sns.scatterplot(data = test_comparison_df, x = 'Actual Weight', y = 'Predicted Weight Sklearn', \n",
        "                color = '#F7931E', ax = ax[0], label = 'Sklearn')\n",
        "sns.scatterplot(data = test_comparison_df, x = 'Actual Weight', y = 'Predicted Weight Sklearnex', \n",
        "                color = '#0068B5', ax = ax[1], label = 'Sklearnex')\n",
        "sns.lineplot(\n",
        "    x = np.linspace(min(test_comparison_df['Actual Weight']), \n",
        "                    max(test_comparison_df['Actual Weight']),\n",
        "                    num = len(test_comparison_df['Actual Weight'])), \n",
        "    y = np.linspace(min(test_comparison_df['Predicted Weight Sklearn']),\n",
        "                    max(test_comparison_df['Predicted Weight Sklearn']),\n",
        "                    num = len(test_comparison_df['Predicted Weight Sklearn'])),\n",
        "    color = 'Grey',\n",
        "    ax = ax[0]\n",
        ")\n",
        "ax[1].set_xlabel(\"Actual Weights (in Grams)\")\n",
        "ax[1].set_ylabel(\"Predicted Weights (in Grams)\")\n",
        "sns.lineplot(\n",
        "    x = np.linspace(min(test_comparison_df['Actual Weight']), \n",
        "                    max(test_comparison_df['Actual Weight']),\n",
        "                    num = len(test_comparison_df['Actual Weight'])), \n",
        "    y = np.linspace(min(test_comparison_df['Predicted Weight Sklearn']),\n",
        "                    max(test_comparison_df['Predicted Weight Sklearn']),\n",
        "                    num = len(test_comparison_df['Predicted Weight Sklearn'])),\n",
        "    color = 'Grey',\n",
        "    ax = ax[1]\n",
        ")\n",
        "plt.legend()\n",
        "plt.show()"
      ],
      "metadata": {
        "id": "74QtM2kbSYQq",
        "colab": {
          "base_uri": "https://localhost:8080/",
          "height": 375
        },
        "outputId": "cf66f94e-a31e-4ab1-c770-8eef68a4d659"
      },
      "execution_count": 256,
      "outputs": [
        {
          "output_type": "display_data",
          "data": {
            "text/plain": [
              "<Figure size 1152x360 with 2 Axes>"
            ],
            "image/png": "[encoded data removed]"
          },
          "metadata": {}
        }
      ]
    },
    {
      "cell_type": "markdown",
      "source": [
        "**Conclusion**\n",
        "\n",
        "According to the observations obtained during training and evaluating the models, the Intel® Extension for Scikit-learn enables faster training and predictions while maintaining model performance almost indistinguishable to that of unpatched Sklearn."
      ],
      "metadata": {
        "id": "l1jEh1f2lu3U"
      }
    }
  ]
}